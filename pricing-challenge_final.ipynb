{
 "cells": [
  {
   "cell_type": "code",
   "execution_count": 1,
   "metadata": {},
   "outputs": [],
   "source": [
    "import pickle\n",
    "import pandas as pd\n",
    "import numpy as np\n",
    "from tqdm import tqdm\n",
    "from typing import Callable, List, Dict, Tuple, Optional\n",
    "import matplotlib.pyplot as plt\n",
    "from sklearn.metrics import r2_score\n",
    "import itertools"
   ]
  },
  {
   "cell_type": "code",
   "execution_count": 2,
   "metadata": {},
   "outputs": [],
   "source": [
    "import warnings\n",
    "warnings.filterwarnings('ignore')"
   ]
  },
  {
   "cell_type": "markdown",
   "metadata": {},
   "source": [
    "#### Loading Data\n",
    "We've provided a training set and a validation set."
   ]
  },
  {
   "cell_type": "code",
   "execution_count": 3,
   "metadata": {},
   "outputs": [],
   "source": [
    "with open(\"train.pkl\", \"rb\") as f:\n",
    "    train_dataset = pickle.load(f)\n",
    "\n",
    "with open(\"validation.pkl\", \"rb\") as f:\n",
    "    val_dataset = pickle.load(f)"
   ]
  },
  {
   "cell_type": "markdown",
   "metadata": {},
   "source": [
    "#### Model Evaluation\n",
    "To evaluate the performance of a model, we compare the forecasted OAS of the model to the actual OAS of the trade. We clip the error to be between -10 and 10."
   ]
  },
  {
   "cell_type": "code",
   "execution_count": 4,
   "metadata": {},
   "outputs": [],
   "source": [
    "def evaluate_model(model: Callable[[pd.DataFrame], float], dataset: List[Dict]) -> Tuple[pd.DataFrame, pd.DataFrame]:\n",
    "    \"\"\"\n",
    "    Model should be a function that takes a dataframe of historical trades and returns a predicted OAS. \n",
    "    \"\"\"\n",
    "    errors = []\n",
    "    for i in tqdm(range(len(dataset))):\n",
    "        observation = dataset[i]\n",
    "        prev_trades = observation[\"prev_trades\"]\n",
    "        if len(prev_trades) == 0:\n",
    "            continue\n",
    "        predicted_oas = model(prev_trades)\n",
    "        errors.append(\n",
    "            {\n",
    "                \"id\": i,\n",
    "                \"bias\": np.clip(observation[\"oas\"] - predicted_oas, -25, 25),\n",
    "                \"error\": np.clip(abs(observation[\"oas\"] - predicted_oas), 0, 25)\n",
    "            }\n",
    "        )\n",
    "    errors_df = pd.DataFrame(errors).set_index(\"id\")\n",
    "    return errors_df.describe(), errors_df"
   ]
  },
  {
   "cell_type": "markdown",
   "metadata": {},
   "source": [
    "#### Example model: latest trade\n",
    "Here is an example model that simply returns the OAS of the most recent trade."
   ]
  },
  {
   "cell_type": "code",
   "execution_count": 33,
   "metadata": {},
   "outputs": [],
   "source": [
    "def last_dealer_trade_model(prev_trades: pd.DataFrame) -> float:\n",
    "    filt = prev_trades[prev_trades['trade_type'] == 'dealer_dealer']\n",
    "    if len(filt) > 0:\n",
    "        return filt.iloc[-1]['oas']\n",
    "    return prev_trades.iloc[-1][\"oas\"]"
   ]
  },
  {
   "cell_type": "code",
   "execution_count": 5,
   "metadata": {},
   "outputs": [],
   "source": [
    "def last_trade_model(prev_trades: pd.DataFrame) -> float:\n",
    "    return prev_trades.iloc[-1][\"oas\"]"
   ]
  },
  {
   "cell_type": "code",
   "execution_count": 6,
   "metadata": {},
   "outputs": [
    {
     "name": "stderr",
     "output_type": "stream",
     "text": [
      "100%|██████████| 52062/52062 [00:06<00:00, 8469.43it/s] \n"
     ]
    },
    {
     "data": {
      "text/html": [
       "<div>\n",
       "<style scoped>\n",
       "    .dataframe tbody tr th:only-of-type {\n",
       "        vertical-align: middle;\n",
       "    }\n",
       "\n",
       "    .dataframe tbody tr th {\n",
       "        vertical-align: top;\n",
       "    }\n",
       "\n",
       "    .dataframe thead th {\n",
       "        text-align: right;\n",
       "    }\n",
       "</style>\n",
       "<table border=\"1\" class=\"dataframe\">\n",
       "  <thead>\n",
       "    <tr style=\"text-align: right;\">\n",
       "      <th></th>\n",
       "      <th>bias</th>\n",
       "      <th>error</th>\n",
       "    </tr>\n",
       "  </thead>\n",
       "  <tbody>\n",
       "    <tr>\n",
       "      <th>count</th>\n",
       "      <td>52062.000000</td>\n",
       "      <td>52062.000000</td>\n",
       "    </tr>\n",
       "    <tr>\n",
       "      <th>mean</th>\n",
       "      <td>0.575663</td>\n",
       "      <td>3.818279</td>\n",
       "    </tr>\n",
       "    <tr>\n",
       "      <th>std</th>\n",
       "      <td>6.486537</td>\n",
       "      <td>5.275133</td>\n",
       "    </tr>\n",
       "    <tr>\n",
       "      <th>min</th>\n",
       "      <td>-25.000000</td>\n",
       "      <td>0.000000</td>\n",
       "    </tr>\n",
       "    <tr>\n",
       "      <th>25%</th>\n",
       "      <td>-1.591775</td>\n",
       "      <td>0.802200</td>\n",
       "    </tr>\n",
       "    <tr>\n",
       "      <th>50%</th>\n",
       "      <td>0.241350</td>\n",
       "      <td>1.923350</td>\n",
       "    </tr>\n",
       "    <tr>\n",
       "      <th>75%</th>\n",
       "      <td>2.242475</td>\n",
       "      <td>4.259400</td>\n",
       "    </tr>\n",
       "    <tr>\n",
       "      <th>max</th>\n",
       "      <td>25.000000</td>\n",
       "      <td>25.000000</td>\n",
       "    </tr>\n",
       "  </tbody>\n",
       "</table>\n",
       "</div>"
      ],
      "text/plain": [
       "               bias         error\n",
       "count  52062.000000  52062.000000\n",
       "mean       0.575663      3.818279\n",
       "std        6.486537      5.275133\n",
       "min      -25.000000      0.000000\n",
       "25%       -1.591775      0.802200\n",
       "50%        0.241350      1.923350\n",
       "75%        2.242475      4.259400\n",
       "max       25.000000     25.000000"
      ]
     },
     "execution_count": 6,
     "metadata": {},
     "output_type": "execute_result"
    }
   ],
   "source": [
    "evaluate_model(last_trade_model, val_dataset)[0]"
   ]
  },
  {
   "cell_type": "markdown",
   "metadata": {},
   "source": [
    "#### Your Model Here"
   ]
  },
  {
   "cell_type": "code",
   "execution_count": 7,
   "metadata": {},
   "outputs": [],
   "source": [
    "class DataModelFormatter:\n",
    "    def format_dataset(self, dataset: List[Dict]) -> List[Dict]:\n",
    "        formatted_data = []\n",
    "        for observation in tqdm(dataset):\n",
    "            prev_trades = observation.get(\"prev_trades\")\n",
    "            if prev_trades is None or len(prev_trades) == 0:\n",
    "                continue\n",
    "            formatted = self._process_trades(prev_trades, observation['oas'])\n",
    "            formatted_data.append(formatted)\n",
    "        return formatted_data\n",
    "\n",
    "    def _process_trades(self, trades: pd.DataFrame, target_oas: float) -> Dict:\n",
    "        obs_oas = []\n",
    "        trade_types = []\n",
    "        quantities = []\n",
    "        times = []\n",
    "        \n",
    "        curr_dealer_oas = []\n",
    "        curr_cust_oas = []\n",
    "        \n",
    "        last_ts = 0\n",
    "        last_quantity = 0\n",
    "        last_type = ''\n",
    "        \n",
    "        for _, row in trades.reset_index().iloc[::-1].iterrows():\n",
    "            if last_ts != row['ts_diff_hrs'] or last_quantity != row['quantity']:\n",
    "                agg = self._finalize_group(curr_dealer_oas, curr_cust_oas, last_ts, last_quantity, last_type)\n",
    "                if agg is not None:\n",
    "                    avg_oas, trade, quantity, time_val = agg\n",
    "                    obs_oas.append(avg_oas)\n",
    "                    trade_types.append(trade)\n",
    "                    quantities.append(quantity)\n",
    "                    times.append(time_val)\n",
    "                curr_dealer_oas, curr_cust_oas = [], []\n",
    "            \n",
    "            if row['trade_type'] != 'dealer_dealer':\n",
    "                curr_cust_oas.append(row['oas'])\n",
    "            else:\n",
    "                curr_dealer_oas.append(row['oas'])\n",
    "            \n",
    "            last_ts = row['ts_diff_hrs']\n",
    "            last_quantity = row['quantity']\n",
    "            last_type = row['trade_type']\n",
    "        \n",
    "        agg = self._finalize_group(curr_dealer_oas, curr_cust_oas, last_ts, last_quantity, last_type)\n",
    "        if agg is not None:\n",
    "            avg_oas, trade, quantity, time_val = agg\n",
    "            obs_oas.append(avg_oas)\n",
    "            trade_types.append(trade)\n",
    "            quantities.append(quantity)\n",
    "            times.append(time_val)\n",
    "        \n",
    "        return {\n",
    "            'target_oas': target_oas,\n",
    "            'data_oas': obs_oas,\n",
    "            'data_type': trade_types,\n",
    "            'data_time': times,\n",
    "            'data_quantity': quantities\n",
    "        }\n",
    "    \n",
    "    def _finalize_group(\n",
    "        self,\n",
    "        curr_dealer_oas: List[float],\n",
    "        curr_cust_oas: List[float],\n",
    "        last_ts: float,\n",
    "        last_quantity: float,\n",
    "        last_type: str\n",
    "    ) -> Optional[Tuple[float, str, float, float]]:\n",
    "\n",
    "        if not (curr_dealer_oas or curr_cust_oas):\n",
    "            return None\n",
    "        if curr_dealer_oas and curr_cust_oas:\n",
    "            return np.mean(curr_dealer_oas), 'combo_dc', last_quantity, last_ts\n",
    "        elif len(curr_cust_oas) >= 2:\n",
    "            return np.mean(curr_cust_oas), 'combo_cc', last_quantity, last_ts\n",
    "        elif len(curr_dealer_oas) >= 2:\n",
    "            return np.mean(curr_dealer_oas), 'combo_dd', last_quantity, last_ts\n",
    "        elif curr_dealer_oas:\n",
    "            return np.mean(curr_dealer_oas), 'dealer_dealer', last_quantity, last_ts\n",
    "        elif curr_cust_oas:\n",
    "            return np.mean(curr_cust_oas), last_type, last_quantity, last_ts\n",
    "        return None\n"
   ]
  },
  {
   "cell_type": "code",
   "execution_count": 8,
   "metadata": {},
   "outputs": [
    {
     "name": "stderr",
     "output_type": "stream",
     "text": [
      "100%|██████████| 156186/156186 [01:48<00:00, 1445.56it/s]\n",
      "100%|██████████| 52062/52062 [00:38<00:00, 1340.70it/s]\n"
     ]
    }
   ],
   "source": [
    "formatter = DataModelFormatter()\n",
    "#formatted_train = formatter.format_dataset(train_dataset)\n",
    "formatted_val = formatter.format_dataset(val_dataset)"
   ]
  },
  {
   "cell_type": "code",
   "execution_count": null,
   "metadata": {},
   "outputs": [],
   "source": [
    "#df_train = pd.DataFrame(formatted_train)\n",
    "df_val = pd.DataFrame(formatted_val)"
   ]
  },
  {
   "cell_type": "markdown",
   "metadata": {},
   "source": [
    "### Model"
   ]
  },
  {
   "cell_type": "code",
   "execution_count": 13,
   "metadata": {},
   "outputs": [],
   "source": [
    "def fit_weighted_average(\n",
    "    values: List[float], \n",
    "    weights: List[float], \n",
    "    half_life: float = 1\n",
    ") -> float:\n",
    "    \n",
    "    if len(values) != len(weights):\n",
    "        raise ValueError(\"The length of values and weights must be the same.\")\n",
    "    \n",
    "    decay_factor = 0.5 ** (1 / half_life)\n",
    "    exp_weights = [decay_factor ** i for i in range(len(values))]\n",
    "    \n",
    "    combined_weights = [w * ew for w, ew in zip(weights, exp_weights)]\n",
    "    weighted_average = sum(v * cw for v, cw in zip(values, combined_weights)) / sum(combined_weights)\n",
    "    \n",
    "    return weighted_average"
   ]
  },
  {
   "cell_type": "code",
   "execution_count": 14,
   "metadata": {},
   "outputs": [],
   "source": [
    "def f_weight_quantity(i, cutoff=1000000, low_val=0.65):\n",
    "    return 1 if i > cutoff else low_val\n",
    "\n",
    "def f_offset_type(data_type: str, offsets: dict):\n",
    "    return offsets.get(data_type, 0)\n",
    "\n",
    "def f_weight_type(data_type: str, trade_weights: dict):\n",
    "    return trade_weights.get(data_type, 0)"
   ]
  },
  {
   "cell_type": "code",
   "execution_count": 15,
   "metadata": {},
   "outputs": [],
   "source": [
    "def get_prediction(row, half_life, offsets, trade_weights, low_val, cutoff=1000000):\n",
    "    weights_size = np.array([\n",
    "        f_weight_quantity(quantity, cutoff, low_val) \n",
    "        for quantity in row['data_quantity']\n",
    "    ])\n",
    "    weights_type = np.array([\n",
    "        f_weight_type(dt, trade_weights) \n",
    "        for dt in row['data_type']\n",
    "    ])\n",
    "    offset_values = np.array([\n",
    "        f_offset_type(dt, offsets) \n",
    "        for dt in row['data_type']\n",
    "    ])\n",
    "    observations = np.array(row['data_oas'])\n",
    "    \n",
    "    return fit_weighted_average(\n",
    "        values=offset_values + observations, \n",
    "        weights=weights_size * weights_type, \n",
    "        half_life=half_life\n",
    "    )\n",
    "\n",
    "def compute_score(true_values, predictions):\n",
    "    return np.mean(abs(np.array(true_values) - np.array(predictions)))"
   ]
  },
  {
   "cell_type": "code",
   "execution_count": null,
   "metadata": {},
   "outputs": [],
   "source": [
    "params = {\n",
    "  'offsets': \n",
    "  {\n",
    "    'dealer_buy': 1.1,\n",
    "    'dealer_dealer': -0.15,\n",
    "    'dealer_sell': -1.25\n",
    "  },\n",
    "  'trade_weights': \n",
    "  {\n",
    "    'dealer_dealer': 1.1,\n",
    "    'dealer_buy': 0.65,\n",
    "    'dealer_sell': 0.55,\n",
    "    'combo_dd': 1.2,\n",
    "    'combo_dc': 1.0,\n",
    "    'combo_cc': 0.85\n",
    "  },\n",
    "  'low_val': 0.5,\n",
    "  'half_life': 1.0\n",
    "}"
   ]
  },
  {
   "cell_type": "code",
   "execution_count": 62,
   "metadata": {},
   "outputs": [],
   "source": [
    "df_val['prediction'] = df_val.apply(lambda row: get_prediction(row, \n",
    "                                                  params['half_life'], \n",
    "                                                  params['offsets'], \n",
    "                                                  params['trade_weights'], \n",
    "                                                  params['low_val'], \n",
    "                                                  1000000),\n",
    "                                                  axis=1)"
   ]
  },
  {
   "cell_type": "code",
   "execution_count": 63,
   "metadata": {},
   "outputs": [],
   "source": [
    "df_val['error_prediction'] = np.clip(abs(df_val['prediction'] - df_val['target_oas']), 0, 25)\n",
    "df_val['bias_prediction'] = np.clip(df_val['prediction'] - df_val['target_oas'], -25, 25)"
   ]
  },
  {
   "cell_type": "code",
   "execution_count": 64,
   "metadata": {},
   "outputs": [],
   "source": [
    "df_val['last_oas_adj'] = df_val['data_oas'].apply(lambda x: x[0])\n",
    "\n",
    "df_val['error_last_adj'] = np.clip(abs(df_val['last_oas_adj'] - df_val['target_oas']), 0, 25)\n",
    "df_val['bias_last_adj'] = np.clip(df_val['last_oas_adj'] - df_val['target_oas'], -25, 25)"
   ]
  },
  {
   "cell_type": "markdown",
   "metadata": {},
   "source": [
    "# Evaluation"
   ]
  },
  {
   "cell_type": "code",
   "execution_count": 72,
   "metadata": {},
   "outputs": [
    {
     "name": "stderr",
     "output_type": "stream",
     "text": [
      "  0%|          | 0/52062 [00:00<?, ?it/s]"
     ]
    },
    {
     "name": "stderr",
     "output_type": "stream",
     "text": [
      "100%|██████████| 52062/52062 [00:08<00:00, 6278.14it/s]\n"
     ]
    },
    {
     "data": {
      "text/html": [
       "<div>\n",
       "<style scoped>\n",
       "    .dataframe tbody tr th:only-of-type {\n",
       "        vertical-align: middle;\n",
       "    }\n",
       "\n",
       "    .dataframe tbody tr th {\n",
       "        vertical-align: top;\n",
       "    }\n",
       "\n",
       "    .dataframe thead th {\n",
       "        text-align: right;\n",
       "    }\n",
       "</style>\n",
       "<table border=\"1\" class=\"dataframe\">\n",
       "  <thead>\n",
       "    <tr style=\"text-align: right;\">\n",
       "      <th></th>\n",
       "      <th>bias</th>\n",
       "      <th>error</th>\n",
       "    </tr>\n",
       "  </thead>\n",
       "  <tbody>\n",
       "    <tr>\n",
       "      <th>count</th>\n",
       "      <td>52062.000000</td>\n",
       "      <td>52062.000000</td>\n",
       "    </tr>\n",
       "    <tr>\n",
       "      <th>mean</th>\n",
       "      <td>0.085910</td>\n",
       "      <td>3.679828</td>\n",
       "    </tr>\n",
       "    <tr>\n",
       "      <th>std</th>\n",
       "      <td>6.117173</td>\n",
       "      <td>4.887309</td>\n",
       "    </tr>\n",
       "    <tr>\n",
       "      <th>min</th>\n",
       "      <td>-25.000000</td>\n",
       "      <td>0.000000</td>\n",
       "    </tr>\n",
       "    <tr>\n",
       "      <th>25%</th>\n",
       "      <td>-1.840600</td>\n",
       "      <td>0.837725</td>\n",
       "    </tr>\n",
       "    <tr>\n",
       "      <th>50%</th>\n",
       "      <td>0.135600</td>\n",
       "      <td>1.985950</td>\n",
       "    </tr>\n",
       "    <tr>\n",
       "      <th>75%</th>\n",
       "      <td>2.112175</td>\n",
       "      <td>4.298075</td>\n",
       "    </tr>\n",
       "    <tr>\n",
       "      <th>max</th>\n",
       "      <td>25.000000</td>\n",
       "      <td>25.000000</td>\n",
       "    </tr>\n",
       "  </tbody>\n",
       "</table>\n",
       "</div>"
      ],
      "text/plain": [
       "               bias         error\n",
       "count  52062.000000  52062.000000\n",
       "mean       0.085910      3.679828\n",
       "std        6.117173      4.887309\n",
       "min      -25.000000      0.000000\n",
       "25%       -1.840600      0.837725\n",
       "50%        0.135600      1.985950\n",
       "75%        2.112175      4.298075\n",
       "max       25.000000     25.000000"
      ]
     },
     "execution_count": 72,
     "metadata": {},
     "output_type": "execute_result"
    }
   ],
   "source": [
    "evaluate_model(last_dealer_trade_model, val_dataset)[0]"
   ]
  },
  {
   "cell_type": "code",
   "execution_count": 73,
   "metadata": {},
   "outputs": [
    {
     "name": "stderr",
     "output_type": "stream",
     "text": [
      "100%|██████████| 52062/52062 [00:02<00:00, 21036.11it/s]\n"
     ]
    },
    {
     "data": {
      "text/html": [
       "<div>\n",
       "<style scoped>\n",
       "    .dataframe tbody tr th:only-of-type {\n",
       "        vertical-align: middle;\n",
       "    }\n",
       "\n",
       "    .dataframe tbody tr th {\n",
       "        vertical-align: top;\n",
       "    }\n",
       "\n",
       "    .dataframe thead th {\n",
       "        text-align: right;\n",
       "    }\n",
       "</style>\n",
       "<table border=\"1\" class=\"dataframe\">\n",
       "  <thead>\n",
       "    <tr style=\"text-align: right;\">\n",
       "      <th></th>\n",
       "      <th>bias</th>\n",
       "      <th>error</th>\n",
       "    </tr>\n",
       "  </thead>\n",
       "  <tbody>\n",
       "    <tr>\n",
       "      <th>count</th>\n",
       "      <td>52062.000000</td>\n",
       "      <td>52062.000000</td>\n",
       "    </tr>\n",
       "    <tr>\n",
       "      <th>mean</th>\n",
       "      <td>0.575663</td>\n",
       "      <td>3.818279</td>\n",
       "    </tr>\n",
       "    <tr>\n",
       "      <th>std</th>\n",
       "      <td>6.486537</td>\n",
       "      <td>5.275133</td>\n",
       "    </tr>\n",
       "    <tr>\n",
       "      <th>min</th>\n",
       "      <td>-25.000000</td>\n",
       "      <td>0.000000</td>\n",
       "    </tr>\n",
       "    <tr>\n",
       "      <th>25%</th>\n",
       "      <td>-1.591775</td>\n",
       "      <td>0.802200</td>\n",
       "    </tr>\n",
       "    <tr>\n",
       "      <th>50%</th>\n",
       "      <td>0.241350</td>\n",
       "      <td>1.923350</td>\n",
       "    </tr>\n",
       "    <tr>\n",
       "      <th>75%</th>\n",
       "      <td>2.242475</td>\n",
       "      <td>4.259400</td>\n",
       "    </tr>\n",
       "    <tr>\n",
       "      <th>max</th>\n",
       "      <td>25.000000</td>\n",
       "      <td>25.000000</td>\n",
       "    </tr>\n",
       "  </tbody>\n",
       "</table>\n",
       "</div>"
      ],
      "text/plain": [
       "               bias         error\n",
       "count  52062.000000  52062.000000\n",
       "mean       0.575663      3.818279\n",
       "std        6.486537      5.275133\n",
       "min      -25.000000      0.000000\n",
       "25%       -1.591775      0.802200\n",
       "50%        0.241350      1.923350\n",
       "75%        2.242475      4.259400\n",
       "max       25.000000     25.000000"
      ]
     },
     "execution_count": 73,
     "metadata": {},
     "output_type": "execute_result"
    }
   ],
   "source": [
    "evaluate_model(last_trade_model, val_dataset)[0]"
   ]
  },
  {
   "cell_type": "code",
   "execution_count": 74,
   "metadata": {},
   "outputs": [
    {
     "data": {
      "text/html": [
       "<div>\n",
       "<style scoped>\n",
       "    .dataframe tbody tr th:only-of-type {\n",
       "        vertical-align: middle;\n",
       "    }\n",
       "\n",
       "    .dataframe tbody tr th {\n",
       "        vertical-align: top;\n",
       "    }\n",
       "\n",
       "    .dataframe thead th {\n",
       "        text-align: right;\n",
       "    }\n",
       "</style>\n",
       "<table border=\"1\" class=\"dataframe\">\n",
       "  <thead>\n",
       "    <tr style=\"text-align: right;\">\n",
       "      <th></th>\n",
       "      <th>error_prediction</th>\n",
       "      <th>bias_prediction</th>\n",
       "      <th>error_last_adj</th>\n",
       "      <th>bias_last_adj</th>\n",
       "    </tr>\n",
       "  </thead>\n",
       "  <tbody>\n",
       "    <tr>\n",
       "      <th>count</th>\n",
       "      <td>52062.000000</td>\n",
       "      <td>52062.000000</td>\n",
       "      <td>52062.000000</td>\n",
       "      <td>52062.000000</td>\n",
       "    </tr>\n",
       "    <tr>\n",
       "      <th>mean</th>\n",
       "      <td>3.396038</td>\n",
       "      <td>-0.503067</td>\n",
       "      <td>3.634983</td>\n",
       "      <td>-0.489189</td>\n",
       "    </tr>\n",
       "    <tr>\n",
       "      <th>std</th>\n",
       "      <td>4.539121</td>\n",
       "      <td>5.646577</td>\n",
       "      <td>5.016305</td>\n",
       "      <td>6.175545</td>\n",
       "    </tr>\n",
       "    <tr>\n",
       "      <th>min</th>\n",
       "      <td>0.000038</td>\n",
       "      <td>-25.000000</td>\n",
       "      <td>0.000000</td>\n",
       "      <td>-25.000000</td>\n",
       "    </tr>\n",
       "    <tr>\n",
       "      <th>25%</th>\n",
       "      <td>0.823066</td>\n",
       "      <td>-2.284634</td>\n",
       "      <td>0.785600</td>\n",
       "      <td>-2.172400</td>\n",
       "    </tr>\n",
       "    <tr>\n",
       "      <th>50%</th>\n",
       "      <td>1.882608</td>\n",
       "      <td>-0.389449</td>\n",
       "      <td>1.883250</td>\n",
       "      <td>-0.231100</td>\n",
       "    </tr>\n",
       "    <tr>\n",
       "      <th>75%</th>\n",
       "      <td>3.917811</td>\n",
       "      <td>1.439982</td>\n",
       "      <td>4.076575</td>\n",
       "      <td>1.571175</td>\n",
       "    </tr>\n",
       "    <tr>\n",
       "      <th>max</th>\n",
       "      <td>25.000000</td>\n",
       "      <td>25.000000</td>\n",
       "      <td>25.000000</td>\n",
       "      <td>25.000000</td>\n",
       "    </tr>\n",
       "  </tbody>\n",
       "</table>\n",
       "</div>"
      ],
      "text/plain": [
       "       error_prediction  bias_prediction  error_last_adj  bias_last_adj\n",
       "count      52062.000000     52062.000000    52062.000000   52062.000000\n",
       "mean           3.396038        -0.503067        3.634983      -0.489189\n",
       "std            4.539121         5.646577        5.016305       6.175545\n",
       "min            0.000038       -25.000000        0.000000     -25.000000\n",
       "25%            0.823066        -2.284634        0.785600      -2.172400\n",
       "50%            1.882608        -0.389449        1.883250      -0.231100\n",
       "75%            3.917811         1.439982        4.076575       1.571175\n",
       "max           25.000000        25.000000       25.000000      25.000000"
      ]
     },
     "execution_count": 74,
     "metadata": {},
     "output_type": "execute_result"
    }
   ],
   "source": [
    "df_val[['error_prediction', 'bias_prediction', 'error_last_adj', 'bias_last_adj']].describe()"
   ]
  },
  {
   "cell_type": "code",
   "execution_count": null,
   "metadata": {},
   "outputs": [],
   "source": []
  }
 ],
 "metadata": {
  "kernelspec": {
   "display_name": "Python 3",
   "language": "python",
   "name": "python3"
  },
  "language_info": {
   "codemirror_mode": {
    "name": "ipython",
    "version": 3
   },
   "file_extension": ".py",
   "mimetype": "text/x-python",
   "name": "python",
   "nbconvert_exporter": "python",
   "pygments_lexer": "ipython3",
   "version": "3.11.2"
  }
 },
 "nbformat": 4,
 "nbformat_minor": 4
}
